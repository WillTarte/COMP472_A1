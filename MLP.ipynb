{
 "cells": [
  {
   "cell_type": "markdown",
   "metadata": {},
   "source": [
    "# Jupyter Notebook for Base Multi-Layered Perceptron and Best Multi-Layered Perceptron"
   ]
  },
  {
   "cell_type": "markdown",
   "metadata": {},
   "source": [
    "#### Some Imports"
   ]
  },
  {
   "cell_type": "code",
   "execution_count": 5,
   "metadata": {},
   "outputs": [],
   "source": [
    "from utils import getClassificationReport, getData\n",
    "from typing import List\n",
    "from sklearn.neural_network import MLPClassifier\n",
    "from sklearn.model_selection import GridSearchCV\n",
    "from sklearn.metrics import plot_confusion_matrix, confusion_matrix, ConfusionMatrixDisplay, classification_report, accuracy_score\n",
    "import matplotlib.pyplot as plt\n",
    "import pandas"
   ]
  },
  {
   "cell_type": "code",
   "execution_count": 6,
   "metadata": {},
   "outputs": [
    {
     "data": {
      "text/html": [
       "<div>\n",
       "<style scoped>\n",
       "    .dataframe tbody tr th:only-of-type {\n",
       "        vertical-align: middle;\n",
       "    }\n",
       "\n",
       "    .dataframe tbody tr th {\n",
       "        vertical-align: top;\n",
       "    }\n",
       "\n",
       "    .dataframe thead th {\n",
       "        text-align: right;\n",
       "    }\n",
       "</style>\n",
       "<table border=\"1\" class=\"dataframe\">\n",
       "  <thead>\n",
       "    <tr style=\"text-align: right;\">\n",
       "      <th></th>\n",
       "      <th>0</th>\n",
       "      <th>1</th>\n",
       "      <th>2</th>\n",
       "      <th>3</th>\n",
       "      <th>4</th>\n",
       "      <th>5</th>\n",
       "      <th>6</th>\n",
       "      <th>7</th>\n",
       "      <th>8</th>\n",
       "      <th>9</th>\n",
       "      <th>...</th>\n",
       "      <th>1014</th>\n",
       "      <th>1015</th>\n",
       "      <th>1016</th>\n",
       "      <th>1017</th>\n",
       "      <th>1018</th>\n",
       "      <th>1019</th>\n",
       "      <th>1020</th>\n",
       "      <th>1021</th>\n",
       "      <th>1022</th>\n",
       "      <th>1023</th>\n",
       "    </tr>\n",
       "  </thead>\n",
       "  <tbody>\n",
       "    <tr>\n",
       "      <th>0</th>\n",
       "      <td>1</td>\n",
       "      <td>1</td>\n",
       "      <td>1</td>\n",
       "      <td>1</td>\n",
       "      <td>1</td>\n",
       "      <td>1</td>\n",
       "      <td>1</td>\n",
       "      <td>1</td>\n",
       "      <td>1</td>\n",
       "      <td>1</td>\n",
       "      <td>...</td>\n",
       "      <td>1</td>\n",
       "      <td>1</td>\n",
       "      <td>1</td>\n",
       "      <td>1</td>\n",
       "      <td>1</td>\n",
       "      <td>1</td>\n",
       "      <td>1</td>\n",
       "      <td>1</td>\n",
       "      <td>1</td>\n",
       "      <td>1</td>\n",
       "    </tr>\n",
       "    <tr>\n",
       "      <th>1</th>\n",
       "      <td>1</td>\n",
       "      <td>1</td>\n",
       "      <td>1</td>\n",
       "      <td>1</td>\n",
       "      <td>1</td>\n",
       "      <td>1</td>\n",
       "      <td>1</td>\n",
       "      <td>1</td>\n",
       "      <td>1</td>\n",
       "      <td>0</td>\n",
       "      <td>...</td>\n",
       "      <td>1</td>\n",
       "      <td>1</td>\n",
       "      <td>1</td>\n",
       "      <td>1</td>\n",
       "      <td>1</td>\n",
       "      <td>1</td>\n",
       "      <td>1</td>\n",
       "      <td>1</td>\n",
       "      <td>1</td>\n",
       "      <td>1</td>\n",
       "    </tr>\n",
       "    <tr>\n",
       "      <th>2</th>\n",
       "      <td>1</td>\n",
       "      <td>1</td>\n",
       "      <td>1</td>\n",
       "      <td>1</td>\n",
       "      <td>1</td>\n",
       "      <td>0</td>\n",
       "      <td>0</td>\n",
       "      <td>1</td>\n",
       "      <td>1</td>\n",
       "      <td>1</td>\n",
       "      <td>...</td>\n",
       "      <td>1</td>\n",
       "      <td>1</td>\n",
       "      <td>1</td>\n",
       "      <td>1</td>\n",
       "      <td>1</td>\n",
       "      <td>1</td>\n",
       "      <td>1</td>\n",
       "      <td>1</td>\n",
       "      <td>1</td>\n",
       "      <td>1</td>\n",
       "    </tr>\n",
       "    <tr>\n",
       "      <th>3</th>\n",
       "      <td>1</td>\n",
       "      <td>1</td>\n",
       "      <td>1</td>\n",
       "      <td>1</td>\n",
       "      <td>1</td>\n",
       "      <td>1</td>\n",
       "      <td>1</td>\n",
       "      <td>1</td>\n",
       "      <td>1</td>\n",
       "      <td>1</td>\n",
       "      <td>...</td>\n",
       "      <td>1</td>\n",
       "      <td>1</td>\n",
       "      <td>1</td>\n",
       "      <td>1</td>\n",
       "      <td>1</td>\n",
       "      <td>1</td>\n",
       "      <td>1</td>\n",
       "      <td>1</td>\n",
       "      <td>1</td>\n",
       "      <td>1</td>\n",
       "    </tr>\n",
       "    <tr>\n",
       "      <th>4</th>\n",
       "      <td>1</td>\n",
       "      <td>1</td>\n",
       "      <td>1</td>\n",
       "      <td>1</td>\n",
       "      <td>1</td>\n",
       "      <td>1</td>\n",
       "      <td>1</td>\n",
       "      <td>1</td>\n",
       "      <td>1</td>\n",
       "      <td>1</td>\n",
       "      <td>...</td>\n",
       "      <td>1</td>\n",
       "      <td>1</td>\n",
       "      <td>1</td>\n",
       "      <td>1</td>\n",
       "      <td>1</td>\n",
       "      <td>1</td>\n",
       "      <td>1</td>\n",
       "      <td>1</td>\n",
       "      <td>1</td>\n",
       "      <td>1</td>\n",
       "    </tr>\n",
       "    <tr>\n",
       "      <th>...</th>\n",
       "      <td>...</td>\n",
       "      <td>...</td>\n",
       "      <td>...</td>\n",
       "      <td>...</td>\n",
       "      <td>...</td>\n",
       "      <td>...</td>\n",
       "      <td>...</td>\n",
       "      <td>...</td>\n",
       "      <td>...</td>\n",
       "      <td>...</td>\n",
       "      <td>...</td>\n",
       "      <td>...</td>\n",
       "      <td>...</td>\n",
       "      <td>...</td>\n",
       "      <td>...</td>\n",
       "      <td>...</td>\n",
       "      <td>...</td>\n",
       "      <td>...</td>\n",
       "      <td>...</td>\n",
       "      <td>...</td>\n",
       "      <td>...</td>\n",
       "    </tr>\n",
       "    <tr>\n",
       "      <th>74</th>\n",
       "      <td>1</td>\n",
       "      <td>1</td>\n",
       "      <td>1</td>\n",
       "      <td>1</td>\n",
       "      <td>1</td>\n",
       "      <td>1</td>\n",
       "      <td>1</td>\n",
       "      <td>0</td>\n",
       "      <td>1</td>\n",
       "      <td>1</td>\n",
       "      <td>...</td>\n",
       "      <td>1</td>\n",
       "      <td>1</td>\n",
       "      <td>1</td>\n",
       "      <td>0</td>\n",
       "      <td>1</td>\n",
       "      <td>1</td>\n",
       "      <td>1</td>\n",
       "      <td>1</td>\n",
       "      <td>1</td>\n",
       "      <td>1</td>\n",
       "    </tr>\n",
       "    <tr>\n",
       "      <th>75</th>\n",
       "      <td>1</td>\n",
       "      <td>1</td>\n",
       "      <td>1</td>\n",
       "      <td>1</td>\n",
       "      <td>1</td>\n",
       "      <td>1</td>\n",
       "      <td>1</td>\n",
       "      <td>1</td>\n",
       "      <td>1</td>\n",
       "      <td>1</td>\n",
       "      <td>...</td>\n",
       "      <td>0</td>\n",
       "      <td>0</td>\n",
       "      <td>0</td>\n",
       "      <td>0</td>\n",
       "      <td>0</td>\n",
       "      <td>0</td>\n",
       "      <td>0</td>\n",
       "      <td>0</td>\n",
       "      <td>0</td>\n",
       "      <td>0</td>\n",
       "    </tr>\n",
       "    <tr>\n",
       "      <th>76</th>\n",
       "      <td>1</td>\n",
       "      <td>1</td>\n",
       "      <td>1</td>\n",
       "      <td>1</td>\n",
       "      <td>1</td>\n",
       "      <td>1</td>\n",
       "      <td>1</td>\n",
       "      <td>1</td>\n",
       "      <td>1</td>\n",
       "      <td>1</td>\n",
       "      <td>...</td>\n",
       "      <td>1</td>\n",
       "      <td>1</td>\n",
       "      <td>1</td>\n",
       "      <td>1</td>\n",
       "      <td>1</td>\n",
       "      <td>1</td>\n",
       "      <td>1</td>\n",
       "      <td>1</td>\n",
       "      <td>1</td>\n",
       "      <td>1</td>\n",
       "    </tr>\n",
       "    <tr>\n",
       "      <th>77</th>\n",
       "      <td>1</td>\n",
       "      <td>1</td>\n",
       "      <td>1</td>\n",
       "      <td>1</td>\n",
       "      <td>1</td>\n",
       "      <td>1</td>\n",
       "      <td>1</td>\n",
       "      <td>1</td>\n",
       "      <td>1</td>\n",
       "      <td>0</td>\n",
       "      <td>...</td>\n",
       "      <td>1</td>\n",
       "      <td>1</td>\n",
       "      <td>1</td>\n",
       "      <td>1</td>\n",
       "      <td>1</td>\n",
       "      <td>1</td>\n",
       "      <td>1</td>\n",
       "      <td>1</td>\n",
       "      <td>1</td>\n",
       "      <td>1</td>\n",
       "    </tr>\n",
       "    <tr>\n",
       "      <th>78</th>\n",
       "      <td>1</td>\n",
       "      <td>1</td>\n",
       "      <td>1</td>\n",
       "      <td>1</td>\n",
       "      <td>1</td>\n",
       "      <td>1</td>\n",
       "      <td>0</td>\n",
       "      <td>0</td>\n",
       "      <td>0</td>\n",
       "      <td>0</td>\n",
       "      <td>...</td>\n",
       "      <td>0</td>\n",
       "      <td>0</td>\n",
       "      <td>0</td>\n",
       "      <td>0</td>\n",
       "      <td>1</td>\n",
       "      <td>1</td>\n",
       "      <td>1</td>\n",
       "      <td>1</td>\n",
       "      <td>1</td>\n",
       "      <td>1</td>\n",
       "    </tr>\n",
       "  </tbody>\n",
       "</table>\n",
       "<p>79 rows × 1024 columns</p>\n",
       "</div>"
      ],
      "text/plain": [
       "    0     1     2     3     4     5     6     7     8     9     ...  1014  \\\n",
       "0      1     1     1     1     1     1     1     1     1     1  ...     1   \n",
       "1      1     1     1     1     1     1     1     1     1     0  ...     1   \n",
       "2      1     1     1     1     1     0     0     1     1     1  ...     1   \n",
       "3      1     1     1     1     1     1     1     1     1     1  ...     1   \n",
       "4      1     1     1     1     1     1     1     1     1     1  ...     1   \n",
       "..   ...   ...   ...   ...   ...   ...   ...   ...   ...   ...  ...   ...   \n",
       "74     1     1     1     1     1     1     1     0     1     1  ...     1   \n",
       "75     1     1     1     1     1     1     1     1     1     1  ...     0   \n",
       "76     1     1     1     1     1     1     1     1     1     1  ...     1   \n",
       "77     1     1     1     1     1     1     1     1     1     0  ...     1   \n",
       "78     1     1     1     1     1     1     0     0     0     0  ...     0   \n",
       "\n",
       "    1015  1016  1017  1018  1019  1020  1021  1022  1023  \n",
       "0      1     1     1     1     1     1     1     1     1  \n",
       "1      1     1     1     1     1     1     1     1     1  \n",
       "2      1     1     1     1     1     1     1     1     1  \n",
       "3      1     1     1     1     1     1     1     1     1  \n",
       "4      1     1     1     1     1     1     1     1     1  \n",
       "..   ...   ...   ...   ...   ...   ...   ...   ...   ...  \n",
       "74     1     1     0     1     1     1     1     1     1  \n",
       "75     0     0     0     0     0     0     0     0     0  \n",
       "76     1     1     1     1     1     1     1     1     1  \n",
       "77     1     1     1     1     1     1     1     1     1  \n",
       "78     0     0     0     1     1     1     1     1     1  \n",
       "\n",
       "[79 rows x 1024 columns]"
      ]
     },
     "execution_count": 6,
     "metadata": {},
     "output_type": "execute_result"
    }
   ],
   "source": []
  },
  {
   "cell_type": "code",
   "execution_count": 7,
   "metadata": {},
   "outputs": [
    {
     "name": "stdout",
     "output_type": "stream",
     "text": [
      "Done\n"
     ]
    }
   ],
   "source": [
    "ds1_training = getData(\"train_1.csv\")\n",
    "ds2_training = getData(\"train_2.csv\")\n",
    "\n",
    "ds1_val = getData(\"val_1.csv\")\n",
    "ds2_val = getData(\"val_2.csv\")\n",
    "\n",
    "ds1_testnolabel = getData(\"test_no_label_1.csv\")\n",
    "ds2_testnolabel = getData(\"test_no_label_2.csv\")\n",
    "\n",
    "ds1_testlabel = getData(\"test_with_label_1.csv\")\n",
    "ds2_testlabel = getData(\"test_with_label_2.csv\")\n",
    "\n",
    "print(\"Done\")"
   ]
  },
  {
   "cell_type": "code",
   "execution_count": 9,
   "metadata": {},
   "outputs": [
    {
     "name": "stderr",
     "output_type": "stream",
     "text": [
      "/home/william/.local/lib/python3.8/site-packages/sklearn/neural_network/_multilayer_perceptron.py:582: ConvergenceWarning: Stochastic Optimizer: Maximum iterations (200) reached and the optimization hasn't converged yet.\n",
      "  warnings.warn(\n"
     ]
    },
    {
     "data": {
      "text/plain": [
       "array([ 6,  8, 13, 13, 14,  2, 12, 13,  8, 11, 10, 12,  8,  8, 14,  8, 14,\n",
       "       11, 11,  0, 10, 17,  9,  9, 16,  8, 17,  6, 14,  9, 15, 14, 11,  8,\n",
       "       13, 10, 10,  8,  2, 13, 13, 12,  8, 16, 14,  9, 13, 13, 13, 12,  6,\n",
       "       12,  2, 15,  0, 13, 12,  9, 14,  8, 10, 17, 10, 13,  8, 13,  2, 13,\n",
       "       10, 13,  2,  2, 17,  8, 13,  2, 15, 14,  2])"
      ]
     },
     "execution_count": 9,
     "metadata": {},
     "output_type": "execute_result"
    }
   ],
   "source": [
    "ds0 = getData(\"0.csv\")\n",
    "baseMLPDemo = MLPClassifier(hidden_layer_sizes=(100,), activation=\"logistic\", solver=\"sgd\")\n",
    "baseMLPDemo.fit(ds1_training.iloc[:, :-1], ds1_training.iloc[:, -1])\n",
    "ds0_out = baseMLPDemo.predict(ds0)\n",
    "ds0_out"
   ]
  },
  {
   "cell_type": "code",
   "execution_count": 13,
   "metadata": {},
   "outputs": [],
   "source": [
    "import csv\n",
    "with open(\"./results/MLP_ds0_out.csv\", \"w\") as out:\n",
    "    for prediction in ds0_out:\n",
    "        out.write(str(prediction))\n",
    "        out.write(\",\")\n",
    "        out.write(\"\\n\")"
   ]
  },
  {
   "cell_type": "markdown",
   "metadata": {},
   "source": [
    "### Loading datasets into Pandas dataframes"
   ]
  },
  {
   "cell_type": "markdown",
   "metadata": {},
   "source": [
    "## Base MLP"
   ]
  },
  {
   "cell_type": "code",
   "execution_count": 3,
   "metadata": {},
   "outputs": [
    {
     "name": "stdout",
     "output_type": "stream",
     "text": [
      "Done\n"
     ]
    }
   ],
   "source": [
    "baseMlpClassifier_1 = MLPClassifier(hidden_layer_sizes=(100,), activation=\"logistic\", solver=\"sgd\")\n",
    "baseMlpClassifier_2 = MLPClassifier(hidden_layer_sizes=(100,), activation=\"logistic\", solver=\"sgd\")\n",
    "\n",
    "print(\"Done\")"
   ]
  },
  {
   "cell_type": "markdown",
   "metadata": {},
   "source": [
    "### Training"
   ]
  },
  {
   "cell_type": "code",
   "execution_count": 4,
   "metadata": {},
   "outputs": [
    {
     "name": "stderr",
     "output_type": "stream",
     "text": [
      "/home/william/.local/lib/python3.8/site-packages/sklearn/neural_network/_multilayer_perceptron.py:582: ConvergenceWarning: Stochastic Optimizer: Maximum iterations (200) reached and the optimization hasn't converged yet.\n",
      "  warnings.warn(\n"
     ]
    },
    {
     "name": "stdout",
     "output_type": "stream",
     "text": [
      "Done\n"
     ]
    },
    {
     "name": "stderr",
     "output_type": "stream",
     "text": [
      "/home/william/.local/lib/python3.8/site-packages/sklearn/neural_network/_multilayer_perceptron.py:582: ConvergenceWarning: Stochastic Optimizer: Maximum iterations (200) reached and the optimization hasn't converged yet.\n",
      "  warnings.warn(\n"
     ]
    }
   ],
   "source": [
    "baseMlpClassifier_1.fit(ds1_training.iloc[:, :-1], ds1_training.iloc[:, -1])\n",
    "baseMlpClassifier_2.fit(ds2_training.iloc[:, :-1], ds2_training.iloc[:, -1])\n",
    "\n",
    "print(\"Done\")"
   ]
  },
  {
   "cell_type": "markdown",
   "metadata": {},
   "source": [
    "### Testing"
   ]
  },
  {
   "cell_type": "code",
   "execution_count": 5,
   "metadata": {},
   "outputs": [
    {
     "name": "stdout",
     "output_type": "stream",
     "text": [
      "Done\n"
     ]
    }
   ],
   "source": [
    "baseMlp_ds1_out = baseMlpClassifier_1.predict(ds1_testlabel.iloc[:, :-1])\n",
    "baseMlp_ds2_out = baseMlpClassifier_2.predict(ds2_testlabel.iloc[:, :-1])\n",
    "\n",
    "print(\"Done\")"
   ]
  },
  {
   "cell_type": "markdown",
   "metadata": {},
   "source": [
    "### Base MLP ds1 Confusion Matrix"
   ]
  },
  {
   "cell_type": "code",
   "execution_count": 6,
   "metadata": {},
   "outputs": [
    {
     "data": {
      "text/plain": [
       "<sklearn.metrics._plot.confusion_matrix.ConfusionMatrixDisplay at 0x7f79ac7162e0>"
      ]
     },
     "execution_count": 6,
     "metadata": {},
     "output_type": "execute_result"
    },
    {
     "data": {
      "image/png": "[encoded data removed]",
      "text/plain": [
       "<Figure size 1200x800 with 2 Axes>"
      ]
     },
     "metadata": {
      "needs_background": "light"
     },
     "output_type": "display_data"
    }
   ],
   "source": [
    "plt.rcParams['figure.figsize'] = [12, 8]\n",
    "plt.rcParams['figure.dpi'] = 100\n",
    "\n",
    "ds1_confusion_matrix = confusion_matrix(ds1_testlabel.iloc[:,-1], baseMlp_ds1_out)\n",
    "disp_ds1 = ConfusionMatrixDisplay(ds1_confusion_matrix)\n",
    "disp_ds1.plot()"
   ]
  },
  {
   "cell_type": "markdown",
   "metadata": {},
   "source": [
    "### Base MLP ds1 Performance metrics"
   ]
  },
  {
   "cell_type": "code",
   "execution_count": 7,
   "metadata": {},
   "outputs": [
    {
     "name": "stdout",
     "output_type": "stream",
     "text": [
      "              precision    recall  f1-score   support\n",
      "\n",
      "           0       0.50      0.75      0.60         4\n",
      "           1       0.00      0.00      0.00         2\n",
      "           2       0.50      0.50      0.50         4\n",
      "           3       0.00      0.00      0.00         3\n",
      "           4       0.00      0.00      0.00         2\n",
      "           5       0.00      0.00      0.00         2\n",
      "           6       0.43      0.75      0.55         4\n",
      "           7       1.00      0.33      0.50         3\n",
      "           8       0.43      1.00      0.60         3\n",
      "           9       1.00      0.50      0.67         4\n",
      "          10       0.25      1.00      0.40         3\n",
      "          11       0.40      0.50      0.44         4\n",
      "          12       0.29      0.67      0.40         3\n",
      "          13       0.67      0.50      0.57         4\n",
      "          14       0.29      0.67      0.40         3\n",
      "          15       0.50      0.67      0.57         3\n",
      "          16       0.00      0.00      0.00         3\n",
      "          17       0.30      0.75      0.43         4\n",
      "          18       0.00      0.00      0.00         3\n",
      "          19       0.00      0.00      0.00         2\n",
      "          20       0.00      0.00      0.00         3\n",
      "          21       0.00      0.00      0.00         3\n",
      "          22       0.75      1.00      0.86         3\n",
      "          23       0.00      0.00      0.00         2\n",
      "          24       0.00      0.00      0.00         3\n",
      "          25       1.00      0.33      0.50         3\n",
      "\n",
      "    accuracy                           0.42        80\n",
      "   macro avg       0.32      0.38      0.31        80\n",
      "weighted avg       0.36      0.42      0.35        80\n",
      "\n",
      "0.425\n"
     ]
    },
    {
     "name": "stderr",
     "output_type": "stream",
     "text": [
      "/home/william/.local/lib/python3.8/site-packages/sklearn/metrics/_classification.py:1221: UndefinedMetricWarning: Precision and F-score are ill-defined and being set to 0.0 in labels with no predicted samples. Use `zero_division` parameter to control this behavior.\n",
      "  _warn_prf(average, modifier, msg_start, len(result))\n"
     ]
    }
   ],
   "source": [
    "#(c) the precision, recall, and f1-measure for each class\n",
    "#(d) the accuracy, macro-average f1 and weighted-average f1 of the model\n",
    "print(classification_report(ds1_testlabel.iloc[:,-1], baseMlp_ds1_out))\n",
    "print(accuracy_score(ds1_testlabel.iloc[:,-1], baseMlp_ds1_out))"
   ]
  },
  {
   "cell_type": "markdown",
   "metadata": {},
   "source": [
    "### Base MLP ds2 Confusion Matrix"
   ]
  },
  {
   "cell_type": "code",
   "execution_count": 8,
   "metadata": {},
   "outputs": [
    {
     "data": {
      "text/plain": [
       "<sklearn.metrics._plot.confusion_matrix.ConfusionMatrixDisplay at 0x7f792c6c4490>"
      ]
     },
     "execution_count": 8,
     "metadata": {},
     "output_type": "execute_result"
    },
    {
     "data": {
      "image/png": "[encoded data removed]",
      "text/plain": [
       "<Figure size 1200x800 with 2 Axes>"
      ]
     },
     "metadata": {
      "needs_background": "light"
     },
     "output_type": "display_data"
    }
   ],
   "source": [
    "ds2_confusion_matrix = confusion_matrix(ds2_testlabel.iloc[:,-1], baseMlp_ds2_out)\n",
    "disp_ds2 = ConfusionMatrixDisplay(ds2_confusion_matrix)\n",
    "disp_ds2.plot()"
   ]
  },
  {
   "cell_type": "markdown",
   "metadata": {},
   "source": [
    "### Base MLP ds2 Performance Metrics"
   ]
  },
  {
   "cell_type": "code",
   "execution_count": 9,
   "metadata": {},
   "outputs": [
    {
     "name": "stdout",
     "output_type": "stream",
     "text": [
      "              precision    recall  f1-score   support\n",
      "\n",
      "           0       0.78      0.82      0.80        55\n",
      "           1       0.92      0.95      0.93       125\n",
      "           2       0.78      0.47      0.58        15\n",
      "           3       0.90      0.60      0.72        15\n",
      "           4       0.73      0.54      0.62        50\n",
      "           5       0.78      0.91      0.84        55\n",
      "           6       1.00      0.40      0.57        15\n",
      "           7       1.00      1.00      1.00        15\n",
      "           8       0.77      0.88      0.82        50\n",
      "           9       0.81      0.87      0.84       125\n",
      "\n",
      "    accuracy                           0.83       520\n",
      "   macro avg       0.85      0.74      0.77       520\n",
      "weighted avg       0.83      0.83      0.82       520\n",
      "\n",
      "0.8288461538461539\n"
     ]
    }
   ],
   "source": [
    "print(classification_report(ds2_testlabel.iloc[:,-1], baseMlp_ds2_out))\n",
    "print(accuracy_score(ds2_testlabel.iloc[:,-1], baseMlp_ds2_out))"
   ]
  },
  {
   "cell_type": "markdown",
   "metadata": {},
   "source": [
    "## Best MLP using Grid Search for Hyperparameter Tuning"
   ]
  },
  {
   "cell_type": "code",
   "execution_count": 10,
   "metadata": {},
   "outputs": [
    {
     "name": "stdout",
     "output_type": "stream",
     "text": [
      "Done\n"
     ]
    }
   ],
   "source": [
    "grid_search_values = {\"activation\": [\"identity\", \"logistic\", \"tanh\", \"relu\"], \"hidden_layer_sizes\": [(30,50), (10,10,10)], \"solver\": [\"sgd\", \"adam\"]}\n",
    "\n",
    "bestMlpClassifier_1 = GridSearchCV(MLPClassifier(), param_grid=grid_search_values, n_jobs=-1)\n",
    "bestMlpClassifier_2 = GridSearchCV(MLPClassifier(), param_grid=grid_search_values, n_jobs=-1)\n",
    "\n",
    "print(\"Done\")"
   ]
  },
  {
   "cell_type": "markdown",
   "metadata": {},
   "source": [
    "### Training (WARNING: Will take a while)"
   ]
  },
  {
   "cell_type": "code",
   "execution_count": 11,
   "metadata": {},
   "outputs": [
    {
     "name": "stdout",
     "output_type": "stream",
     "text": [
      "Done\n"
     ]
    },
    {
     "name": "stderr",
     "output_type": "stream",
     "text": [
      "/home/william/.local/lib/python3.8/site-packages/sklearn/neural_network/_multilayer_perceptron.py:582: ConvergenceWarning: Stochastic Optimizer: Maximum iterations (200) reached and the optimization hasn't converged yet.\n",
      "  warnings.warn(\n"
     ]
    }
   ],
   "source": [
    "bestMlpClassifier_1.fit(ds1_training.iloc[:, :-1], ds1_training.iloc[:, -1])\n",
    "\n",
    "print(\"Done\")"
   ]
  },
  {
   "cell_type": "code",
   "execution_count": 12,
   "metadata": {},
   "outputs": [
    {
     "name": "stdout",
     "output_type": "stream",
     "text": [
      "Done\n"
     ]
    },
    {
     "name": "stderr",
     "output_type": "stream",
     "text": [
      "/home/william/.local/lib/python3.8/site-packages/sklearn/neural_network/_multilayer_perceptron.py:582: ConvergenceWarning: Stochastic Optimizer: Maximum iterations (200) reached and the optimization hasn't converged yet.\n",
      "  warnings.warn(\n"
     ]
    }
   ],
   "source": [
    "bestMlpClassifier_2.fit(ds2_training.iloc[:, :-1], ds2_training.iloc[:, -1])\n",
    "\n",
    "print(\"Done\")"
   ]
  },
  {
   "cell_type": "markdown",
   "metadata": {},
   "source": [
    "### Testing (Will take a while)"
   ]
  },
  {
   "cell_type": "code",
   "execution_count": 13,
   "metadata": {},
   "outputs": [
    {
     "name": "stdout",
     "output_type": "stream",
     "text": [
      "Done\n"
     ]
    }
   ],
   "source": [
    "bestMlp_ds1_out = bestMlpClassifier_1.predict(ds1_testlabel.iloc[:, :-1])\n",
    "bestMlp_ds2_out = bestMlpClassifier_2.predict(ds2_testlabel.iloc[:, :-1])\n",
    "\n",
    "print(\"Done\")"
   ]
  },
  {
   "cell_type": "markdown",
   "metadata": {},
   "source": [
    "## Best MLP ds1 Confusion Matrix"
   ]
  },
  {
   "cell_type": "code",
   "execution_count": 14,
   "metadata": {},
   "outputs": [
    {
     "data": {
      "text/plain": [
       "<sklearn.metrics._plot.confusion_matrix.ConfusionMatrixDisplay at 0x7f798f0039a0>"
      ]
     },
     "execution_count": 14,
     "metadata": {},
     "output_type": "execute_result"
    },
    {
     "data": {
      "image/png": "[encoded data removed]",
      "text/plain": [
       "<Figure size 1200x800 with 2 Axes>"
      ]
     },
     "metadata": {
      "needs_background": "light"
     },
     "output_type": "display_data"
    }
   ],
   "source": [
    "best_ds1_confusion_matrix = confusion_matrix(ds1_testlabel.iloc[:,-1], bestMlp_ds1_out)\n",
    "best_disp_ds1 = ConfusionMatrixDisplay(best_ds1_confusion_matrix)\n",
    "best_disp_ds1.plot()"
   ]
  },
  {
   "cell_type": "markdown",
   "metadata": {},
   "source": [
    "### Best MLP ds1 Performance Metrics"
   ]
  },
  {
   "cell_type": "code",
   "execution_count": 15,
   "metadata": {},
   "outputs": [
    {
     "name": "stdout",
     "output_type": "stream",
     "text": [
      "              precision    recall  f1-score   support\n",
      "\n",
      "           0       0.75      0.75      0.75         4\n",
      "           1       0.50      0.50      0.50         2\n",
      "           2       1.00      1.00      1.00         4\n",
      "           3       1.00      1.00      1.00         3\n",
      "           4       1.00      1.00      1.00         2\n",
      "           5       1.00      0.50      0.67         2\n",
      "           6       0.67      1.00      0.80         4\n",
      "           7       0.50      0.67      0.57         3\n",
      "           8       0.75      1.00      0.86         3\n",
      "           9       1.00      0.50      0.67         4\n",
      "          10       0.33      0.33      0.33         3\n",
      "          11       1.00      1.00      1.00         4\n",
      "          12       0.50      0.33      0.40         3\n",
      "          13       1.00      0.75      0.86         4\n",
      "          14       1.00      1.00      1.00         3\n",
      "          15       0.67      0.67      0.67         3\n",
      "          16       1.00      1.00      1.00         3\n",
      "          17       0.60      0.75      0.67         4\n",
      "          18       1.00      0.67      0.80         3\n",
      "          19       0.67      1.00      0.80         2\n",
      "          20       1.00      1.00      1.00         3\n",
      "          21       1.00      1.00      1.00         3\n",
      "          22       1.00      1.00      1.00         3\n",
      "          23       0.67      1.00      0.80         2\n",
      "          24       1.00      1.00      1.00         3\n",
      "          25       1.00      0.67      0.80         3\n",
      "\n",
      "    accuracy                           0.81        80\n",
      "   macro avg       0.83      0.81      0.81        80\n",
      "weighted avg       0.84      0.81      0.81        80\n",
      "\n",
      "0.8125\n"
     ]
    }
   ],
   "source": [
    "print(classification_report(ds1_testlabel.iloc[:,-1], bestMlp_ds1_out))\n",
    "print(accuracy_score(ds1_testlabel.iloc[:,-1], bestMlp_ds1_out))"
   ]
  },
  {
   "cell_type": "markdown",
   "metadata": {},
   "source": [
    "### Best MLP ds2 Confusion Matrix"
   ]
  },
  {
   "cell_type": "code",
   "execution_count": 16,
   "metadata": {},
   "outputs": [
    {
     "data": {
      "text/plain": [
       "<sklearn.metrics._plot.confusion_matrix.ConfusionMatrixDisplay at 0x7f798e4224c0>"
      ]
     },
     "execution_count": 16,
     "metadata": {},
     "output_type": "execute_result"
    },
    {
     "data": {
      "image/png": "[encoded data removed]",
      "text/plain": [
       "<Figure size 1200x800 with 2 Axes>"
      ]
     },
     "metadata": {
      "needs_background": "light"
     },
     "output_type": "display_data"
    }
   ],
   "source": [
    "best_ds2_confusion_matrix = confusion_matrix(ds2_testlabel.iloc[:,-1], bestMlp_ds2_out)\n",
    "best_disp_ds2 = ConfusionMatrixDisplay(best_ds2_confusion_matrix)\n",
    "best_disp_ds2.plot()"
   ]
  },
  {
   "cell_type": "markdown",
   "metadata": {},
   "source": [
    "### Best MLP ds2 Performance Metrics"
   ]
  },
  {
   "cell_type": "code",
   "execution_count": 17,
   "metadata": {},
   "outputs": [
    {
     "name": "stdout",
     "output_type": "stream",
     "text": [
      "              precision    recall  f1-score   support\n",
      "\n",
      "           0       0.82      0.91      0.86        55\n",
      "           1       0.98      0.97      0.97       125\n",
      "           2       0.73      0.53      0.62        15\n",
      "           3       0.93      0.93      0.93        15\n",
      "           4       0.82      0.62      0.70        50\n",
      "           5       0.86      0.91      0.88        55\n",
      "           6       1.00      0.60      0.75        15\n",
      "           7       1.00      1.00      1.00        15\n",
      "           8       0.74      0.96      0.83        50\n",
      "           9       0.87      0.86      0.87       125\n",
      "\n",
      "    accuracy                           0.87       520\n",
      "   macro avg       0.87      0.83      0.84       520\n",
      "weighted avg       0.88      0.87      0.87       520\n",
      "\n",
      "0.8730769230769231\n"
     ]
    }
   ],
   "source": [
    "print(classification_report(ds2_testlabel.iloc[:,-1], bestMlp_ds2_out))\n",
    "print(accuracy_score(ds2_testlabel.iloc[:,-1], bestMlp_ds2_out))"
   ]
  },
  {
   "cell_type": "markdown",
   "metadata": {},
   "source": [
    "# Since we have all we need, let's write the results to a file"
   ]
  },
  {
   "cell_type": "code",
   "execution_count": 23,
   "metadata": {},
   "outputs": [],
   "source": [
    "with open(r\"./results/mlResults/Base-MLP-DS1.csv\", \"w\") as f:\n",
    "    for real, predicted in zip(ds1_testlabel.iloc[:, -1], baseMlp_ds1_out):\n",
    "        f.write(str(real) + \",\" + str(predicted) + \"\\n\")\n",
    "    \n",
    "    pandas.DataFrame(ds1_confusion_matrix).to_csv(f)\n",
    "    \n",
    "    report = classification_report(ds1_testlabel.iloc[:,-1], baseMlp_ds1_out, output_dict=True)\n",
    "    df = pandas.DataFrame(report).transpose()\n",
    "    df.to_csv(f)"
   ]
  },
  {
   "cell_type": "code",
   "execution_count": 24,
   "metadata": {},
   "outputs": [],
   "source": [
    "with open(r\"./results/mlResults/Base-MLP-DS2.csv\", \"w\") as f:\n",
    "    for real, predicted in zip(ds2_testlabel.iloc[:, -1], baseMlp_ds2_out):\n",
    "        f.write(str(real) + \",\" + str(predicted) + \"\\n\")\n",
    "    \n",
    "    pandas.DataFrame(ds2_confusion_matrix).to_csv(f)\n",
    "    \n",
    "    report = classification_report(ds2_testlabel.iloc[:,-1], baseMlp_ds2_out, output_dict=True)\n",
    "    df = pandas.DataFrame(report).transpose()\n",
    "    df.to_csv(f)\n",
    "    \n",
    "    "
   ]
  },
  {
   "cell_type": "code",
   "execution_count": 25,
   "metadata": {},
   "outputs": [],
   "source": [
    "with open(r\"./results/mlResults/Best-MLP-DS1.csv\", \"w\") as f:\n",
    "    for real, predicted in zip(ds1_testlabel.iloc[:, -1], bestMlp_ds1_out):\n",
    "        f.write(str(real) + \",\" + str(predicted) + \"\\n\")\n",
    "    \n",
    "    pandas.DataFrame(best_ds1_confusion_matrix).to_csv(f)\n",
    "    \n",
    "    report = classification_report(ds1_testlabel.iloc[:,-1], bestMlp_ds1_out, output_dict=True)\n",
    "    df = pandas.DataFrame(report).transpose()\n",
    "    df.to_csv(f)"
   ]
  },
  {
   "cell_type": "code",
   "execution_count": 26,
   "metadata": {},
   "outputs": [],
   "source": [
    "with open(r\"./results/mlResults/Best-MLP-DS2.csv\", \"w\") as f:\n",
    "    for real, predicted in zip(ds2_testlabel.iloc[:, -1], bestMlp_ds2_out):\n",
    "        f.write(str(real) + \",\" + str(predicted) + \"\\n\")\n",
    "        \n",
    "    pandas.DataFrame(best_ds1_confusion_matrix).to_csv(f)\n",
    "    \n",
    "    report = classification_report(ds2_testlabel.iloc[:,-1], bestMlp_ds2_out, output_dict=True)\n",
    "    df = pandas.DataFrame(report).transpose()\n",
    "    df.to_csv(f)"
   ]
  },
  {
   "cell_type": "code",
   "execution_count": null,
   "metadata": {},
   "outputs": [],
   "source": []
  }
 ],
 "metadata": {
  "kernelspec": {
   "display_name": "Python 3.8.2 64-bit",
   "language": "python",
   "name": "python38264bit39abd4823d9c45a3ab1cf7e423b69d20"
  },
  "language_info": {
   "codemirror_mode": {
    "name": "ipython",
    "version": 3
   },
   "file_extension": ".py",
   "mimetype": "text/x-python",
   "name": "python",
   "nbconvert_exporter": "python",
   "pygments_lexer": "ipython3",
   "version": "3.8.5"
  }
 },
 "nbformat": 4,
 "nbformat_minor": 4
}
